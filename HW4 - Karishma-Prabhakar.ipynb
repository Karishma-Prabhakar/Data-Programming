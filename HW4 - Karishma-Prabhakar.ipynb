{
 "cells": [
  {
   "cell_type": "markdown",
   "metadata": {},
   "source": [
    "# HW04 Questions"
   ]
  },
  {
   "cell_type": "code",
   "execution_count": 6,
   "metadata": {
    "ExecuteTime": {
     "end_time": "2017-09-18T10:40:30.229427",
     "start_time": "2017-09-18T10:40:29.852924"
    }
   },
   "outputs": [],
   "source": [
    "import numpy as np\n",
    "import pandas as pd "
   ]
  },
  {
   "cell_type": "markdown",
   "metadata": {},
   "source": [
    "## Problem 1\n",
    "Create a function `load_employees` that loads the employees table from the path where\n",
    "the file  `Employees.xls` is in your computer and sets the index of the DataFrame to the `EmployeeID`. The function should return a table with the `EmployeeID` as the index and the remaining 25 columns.\n",
    "\n",
    "Arguments:\n",
    "-  a DataFrame: Employee Table\n",
    "\n",
    "Returns:\n",
    "-  a DataFrame with index of 'EmployeeID'\n",
    "\n",
    "After you define the fucntion,call the function and print:\n",
    "\n",
    "Number of rows\\\n",
    "Number of columns\\\n",
    "Head of 10 index \\\n",
    "Record of employ with ID=999"
   ]
  },
  {
   "cell_type": "code",
   "execution_count": 153,
   "metadata": {},
   "outputs": [],
   "source": [
    "def load_employees(file_path): \n",
    "    df = pd.read_excel(file_path)\n",
    "    df = df.set_index('EmployeeID')\n",
    "    return df"
   ]
  },
  {
   "cell_type": "code",
   "execution_count": 156,
   "metadata": {},
   "outputs": [
    {
     "name": "stdout",
     "output_type": "stream",
     "text": [
      "Number of rows: 291\n",
      "Number of cols: 25\n",
      "\n",
      "Head of index: Int64Index([259, 278, 204, 78, 255, 66, 270, 22, 161, 124], dtype='int64', name='EmployeeID')\n",
      "\n",
      "Record of employee with ID=999\n",
      "\n",
      "ManagerID                                      1\n",
      "TerritoryID                                  NaN\n",
      "Title                                        NaN\n",
      "FirstName                               Chadwick\n",
      "MiddleName                                   NaN\n",
      "LastName                                   Smith\n",
      "Suffix                                       NaN\n",
      "JobTitle                            BI Professor\n",
      "NationalIDNumber                       123456789\n",
      "BirthDate                             1967-07-05\n",
      "MaritalStatus                                  M\n",
      "Gender                                         M\n",
      "HireDate              2003-12-31 23:59:59.997000\n",
      "SalariedFlag                                   0\n",
      "VacationHours                                 55\n",
      "SickLeaveHours                                47\n",
      "PhoneNumber                         555-887-9788\n",
      "PhoneNumberType                             Work\n",
      "EmailAddress         chadwick.smith@rentpath.com\n",
      "AddressLine1                   565 Peachtree Rd.\n",
      "AddressLine2                                 NaN\n",
      "City                                     Atlanta\n",
      "StateProvinceName                        Georgia\n",
      "PostalCode                                 30084\n",
      "CountryName                        United States\n",
      "Name: 999, dtype: object\n"
     ]
    }
   ],
   "source": [
    "employees_df = load_employees('Employees.xls')\n",
    "\n",
    "print(\"Number of rows: %d\\nNumber of cols: %d\\n\" % (employees_df.shape[0], employees_df.shape[1]))\n",
    "print(\"Head of index: %s\\n\" % (employees_df.index[:10]))\n",
    "print(\"Record of employee with ID=999\\n\")\n",
    "print(employees_df.loc[999])"
   ]
  },
  {
   "cell_type": "markdown",
   "metadata": {},
   "source": [
    "## Problem 2\n",
    "Define a function `getFullName` which takes the employees table from your first function in #1 and a single employee ID as arguments, and returns a string with the full name of the employee in the format \"LAST, FIRST MIDDLE\".\n",
    "If the given ID does not belong to any employee return the string \"UNKNOWN\" (in all caps)\n",
    "If no middle name is given only return \"LAST, FIRST\". Make sure there are not trailing spaces!\n",
    "If only the middle initial is given the return the full name in the format \"LAST, FIRST M\".\n",
    "\n",
    "Arguments:\n",
    "- df (DataFrame): Employee Table\n",
    "- empid (int):  Employee ID\n",
    "\n",
    "Returns:\n",
    "- String with full name"
   ]
  },
  {
   "cell_type": "code",
   "execution_count": 166,
   "metadata": {},
   "outputs": [],
   "source": [
    "def getFullName(df, empid):\n",
    "    full_name = \"UNKNOWN\"\n",
    "    if empid in employees_df.index:\n",
    "        name = df.loc[empid, [\"FirstName\",\"MiddleName\",\"LastName\"]]\n",
    "        first_name, middle_name, last_name = name[0],name[1],name[2]\n",
    "        if str(middle_name) == 'nan':\n",
    "            full_name = last_name +\", \" + first_name\n",
    "        elif len(middle_name) == 1:\n",
    "            full_name = last_name + \", \" + first_name + \" \" + middle_name + \".\"\n",
    "        else:\n",
    "            full_name = last_name + \", \" + first_name + \" \" + middle_name\n",
    "        return full_name"
   ]
  },
  {
   "cell_type": "markdown",
   "metadata": {},
   "source": [
    "### After you finish defining your function, get full name for employee id 259"
   ]
  },
  {
   "cell_type": "code",
   "execution_count": 167,
   "metadata": {},
   "outputs": [
    {
     "name": "stdout",
     "output_type": "stream",
     "text": [
      "259, \"Miller, Ben T.\"\n"
     ]
    }
   ],
   "source": [
    "for eid in [259]:\n",
    "    print('%d, \"%s\"' %(eid, getFullName(employees_df, eid)))"
   ]
  },
  {
   "cell_type": "markdown",
   "metadata": {},
   "source": [
    "### After you finish defining your function, get full name for employee id 274, 999, 102, but do not call the function one by one.\n",
    "### Print them as:\n",
    "274, \"Jiang, Stephen Y\"\\\n",
    "999, \"Smith, Chadwick nan\"\\\n",
    "102, \"Mu, Zheng W\""
   ]
  },
  {
   "cell_type": "code",
   "execution_count": 158,
   "metadata": {},
   "outputs": [
    {
     "name": "stdout",
     "output_type": "stream",
     "text": [
      "274, \"Jiang, Stephen Y.\"\n",
      "999, \"Smith, Chadwick\"\n",
      "102, \"Mu, Zheng W.\"\n"
     ]
    }
   ],
   "source": [
    "for eid in [274, 999, 102]:\n",
    "    print('%d, \"%s\"' %(eid, getFullName(employees_df, eid)))"
   ]
  },
  {
   "cell_type": "markdown",
   "metadata": {},
   "source": [
    "## Problem 3\n",
    "Define a function `isSales` that takes the job title of an employee as string as an argument and return either `True` if the job title indicates this person works in sales, and `False` otherwise.\n",
    "\n",
    "Argument:\n",
    "- jobtitle (str)\n",
    "\n",
    "Returns:\n",
    "- True or False"
   ]
  },
  {
   "cell_type": "code",
   "execution_count": 159,
   "metadata": {},
   "outputs": [],
   "source": [
    "def isSales(jobtitle):\n",
    "    if \"sale\" in jobtitle.lower(): \n",
    "        return True\n",
    "    else:\n",
    "        return False"
   ]
  },
  {
   "cell_type": "markdown",
   "metadata": {},
   "source": [
    "### After defining your function, check if these job tiles are sales job:'Chief Data Scientist', 'Sales Manager', 'Vice President of Sales'. \n",
    "If it is a sales job, print the job title + 'is part of the Sales Department.'; if not, print the job title + 'belongs to a different department.'"
   ]
  },
  {
   "cell_type": "code",
   "execution_count": 160,
   "metadata": {},
   "outputs": [
    {
     "name": "stdout",
     "output_type": "stream",
     "text": [
      "The job title 'Chief Data Scientist' belongs to a different department.\n",
      "The job title 'Sales Manager' is part of the Sales Department.\n",
      "The job title 'Vice President of Sales' is part of the Sales Department.\n"
     ]
    }
   ],
   "source": [
    "for jt in ['Chief Data Scientist', 'Sales Manager', 'Vice President of Sales']:\n",
    "    if isSales(jt):\n",
    "        print(\"The job title '%s' is part of the Sales Department.\" % jt)\n",
    "    else:\n",
    "        print(\"The job title '%s' belongs to a different department.\" % jt)"
   ]
  },
  {
   "cell_type": "markdown",
   "metadata": {
    "ExecuteTime": {
     "end_time": "2017-09-18T11:10:52.841897",
     "start_time": "2017-09-18T11:10:52.838016"
    }
   },
   "source": [
    "## Problem 4\n",
    "Define a function `filterSales` with the employee tables as an argument, that returns a new table of the same column_names and row_names containing only row of sales people. You should use the `isSales` function from the previous problem.\n",
    "\n",
    "Arguments:\n",
    "- employees (DataFrame)\n",
    "\n",
    "Returns:\n",
    "- DataFrame with only people from the Sales Department"
   ]
  },
  {
   "cell_type": "markdown",
   "metadata": {},
   "source": [
    "## Hints:\n",
    "### for loops in DataFrame\n",
    "* step 1 loop through the rows\n",
    "    * pick out job title, then call function isSales\n",
    "    * if true:\n",
    "        * store in the new DF\n",
    "\n",
    "\n",
    "### make it better\n",
    "* apply -- for loop on DF & PD.Series\n",
    "* map -- for loop on PD.Series\n",
    "* applymap -- for loop on elements of DF & PD.Series  -- much less used because it is VERY slow\n",
    "    "
   ]
  },
  {
   "cell_type": "code",
   "execution_count": 163,
   "metadata": {},
   "outputs": [],
   "source": [
    "def filterSales(employees):\n",
    "    sales_filter = employees.loc[:, \"JobTitle\"].apply(isSales)\n",
    "    return employees[sales_filter]"
   ]
  },
  {
   "cell_type": "markdown",
   "metadata": {},
   "source": [
    "### After you define the fuction, call the function and print:\n",
    "Number of row\\\n",
    "Number of columns\\\n",
    "Head of 10 index\\\n",
    "Record of sales employee with ID=280"
   ]
  },
  {
   "cell_type": "code",
   "execution_count": 164,
   "metadata": {},
   "outputs": [
    {
     "name": "stdout",
     "output_type": "stream",
     "text": [
      "Number of rows: 18\n",
      "Number of cols: 25\n",
      "\n",
      "Head of index: Int64Index([278, 283, 274, 276, 286, 284, 287, 281, 280, 285], dtype='int64', name='EmployeeID')\n",
      "\n",
      "Record of sales employee with ID=280\n",
      "\n",
      "ManagerID                             274\n",
      "TerritoryID                             1\n",
      "Title                                 NaN\n",
      "FirstName                          Pamela\n",
      "MiddleName                              O\n",
      "LastName                     Ansman-Wolfe\n",
      "Suffix                                NaN\n",
      "JobTitle             Sales Representative\n",
      "NationalIDNumber                 61161660\n",
      "BirthDate                      1969-01-06\n",
      "MaritalStatus                           S\n",
      "Gender                                  F\n",
      "HireDate              2005-10-01 00:00:00\n",
      "SalariedFlag                            1\n",
      "VacationHours                          22\n",
      "SickLeaveHours                         31\n",
      "PhoneNumber                  340-555-0193\n",
      "PhoneNumberType                      Cell\n",
      "EmailAddress            pamela0@yahoo.com\n",
      "AddressLine1            636 Vine Hill Way\n",
      "AddressLine2                          NaN\n",
      "City                             Portland\n",
      "StateProvinceName                  Oregon\n",
      "PostalCode                          97205\n",
      "CountryName                 United States\n",
      "Name: 280, dtype: object\n"
     ]
    }
   ],
   "source": [
    "sales_df = filterSales(employees_df)\n",
    "print(\"Number of rows: %d\\nNumber of cols: %d\\n\" % (sales_df.shape[0], sales_df.shape[1]))\n",
    "print(\"Head of index: %s\\n\" % (sales_df.index[:10]))\n",
    "print(\"Record of sales employee with ID=280\\n\")\n",
    "print(sales_df.loc[280])"
   ]
  },
  {
   "cell_type": "markdown",
   "metadata": {},
   "source": [
    "## Problem 5 \n",
    "Define a function managementCounts which produces a Series of how many employees report to a manager. The Series is indexed by the ManagerID, the count should be performed on the unique EmployeeID. The resulting Series should be order by the number of employees in descending order.\n",
    "\n",
    "Arguments:\n",
    "\n",
    "- employees (DataFrame)\n",
    "\n",
    "Returns:\n",
    "\n",
    "- Series of counts (int), indexed by ManagerID\n"
   ]
  },
  {
   "cell_type": "code",
   "execution_count": 165,
   "metadata": {},
   "outputs": [
    {
     "data": {
      "text/plain": [
       "ManagerID\n",
       "26.0     178\n",
       "25.0      30\n",
       "250.0     17\n",
       "274.0     10\n",
       "263.0      9\n",
       "249.0      9\n",
       "16.0       8\n",
       "1.0        8\n",
       "227.0      6\n",
       "235.0      5\n",
       "287.0      3\n",
       "273.0      3\n",
       "234.0      3\n",
       "285.0      1\n",
       "Name: EmployeeID, dtype: int64"
      ]
     },
     "execution_count": 165,
     "metadata": {},
     "output_type": "execute_result"
    }
   ],
   "source": [
    "def managementCounts(df):\n",
    "    df = df.reset_index()\n",
    "    new_df = df.groupby('ManagerID')['EmployeeID'].apply(lambda em_id_list: len(em_id_list.unique())).sort_values(ascending=False)\n",
    "    return new_df\n",
    "\n",
    "managementCounts(employees_df)"
   ]
  },
  {
   "cell_type": "code",
   "execution_count": null,
   "metadata": {},
   "outputs": [],
   "source": []
  }
 ],
 "metadata": {
  "hide_input": false,
  "kernelspec": {
   "display_name": "Python 3",
   "language": "python",
   "name": "python3"
  },
  "language_info": {
   "codemirror_mode": {
    "name": "ipython",
    "version": 3
   },
   "file_extension": ".py",
   "mimetype": "text/x-python",
   "name": "python",
   "nbconvert_exporter": "python",
   "pygments_lexer": "ipython3",
   "version": "3.7.6"
  },
  "toc": {
   "nav_menu": {
    "height": "139px",
    "width": "252px"
   },
   "navigate_menu": true,
   "number_sections": true,
   "sideBar": true,
   "threshold": 4,
   "toc_cell": false,
   "toc_section_display": "block",
   "toc_window_display": false
  }
 },
 "nbformat": 4,
 "nbformat_minor": 2
}
