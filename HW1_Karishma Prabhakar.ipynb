{
 "cells": [
  {
   "cell_type": "markdown",
   "metadata": {},
   "source": [
    "## To Students:\n",
    "\n",
    "The deadline of homework 1 is extended to Sep 6th 11:59PM, so that we have time to cover all the topics in next week's class.\n",
    "\n",
    "The class will be divided into 6 groups and each group will be assigned to a TA by the end of the 1st week. You will receive your TA's email address and please turn in your homework (in Jupyter Notebook format) to your TA's email before deadline. \n",
    "\n",
    "Have fun coding. :-)"
   ]
  },
  {
   "cell_type": "markdown",
   "metadata": {},
   "source": [
    "## QUESTIONS\n",
    "\n",
    "1. Write a fuction called 'fac' that takes an input of number N and output N!.Print the result as N! is result.\n",
    "For example, N = 5, N! = 5 * 4 * 3 * 2 * 1 = 120. Print '5! is 120'"
   ]
  },
  {
   "cell_type": "code",
   "execution_count": 5,
   "metadata": {},
   "outputs": [
    {
     "name": "stdout",
     "output_type": "stream",
     "text": [
      "5 ! is 120\n"
     ]
    }
   ],
   "source": [
    "def fac(n):\n",
    "    return 1 if (n==1 or n==0) else n * fac(n - 1);\n",
    "num = 5; \n",
    "print(num,\"!\", \"is\",fac(num)) "
   ]
  },
  {
   "cell_type": "markdown",
   "metadata": {},
   "source": [
    "2. Make a plot for y = log(x), x is between 1 and 100."
   ]
  },
  {
   "cell_type": "code",
   "execution_count": 6,
   "metadata": {},
   "outputs": [
    {
     "data": {
      "text/plain": [
       "Text(0.5, 1.0, 'Graphical Representation of y=log(x)')"
      ]
     },
     "execution_count": 6,
     "metadata": {},
     "output_type": "execute_result"
    },
    {
     "data": {
      "image/png": "[encoded data removed]",
      "text/plain": [
       "<Figure size 432x288 with 1 Axes>"
      ]
     },
     "metadata": {
      "needs_background": "light"
     },
     "output_type": "display_data"
    }
   ],
   "source": [
    "import numpy as np\n",
    "import matplotlib.pyplot as plt\n",
    "\n",
    "x = np.linspace(1,100)\n",
    "y = np.log(x)\n",
    "plt.plot(x, y, label=\"y=log(x)\")\n",
    "plt.legend(loc=\"best\")\n",
    "plt.title(\"Graphical Representation of y=log(x)\")"
   ]
  },
  {
   "cell_type": "markdown",
   "metadata": {},
   "source": [
    "3. Write a function called \"operate\" that takes as input two numbers, and a string that can be either \"add\" or \"multiply\". The output should be either the sum or product of the two numbers, depending on the string entered."
   ]
  },
  {
   "cell_type": "code",
   "execution_count": 1,
   "metadata": {},
   "outputs": [
    {
     "name": "stdout",
     "output_type": "stream",
     "text": [
      "Enter First Number: 5\n",
      "Enter Second Number: 6\n",
      "Enter which operation would you like to perform?\n",
      "Enter any of these char for specific operation +,*: +\n",
      "5 + 6 : 11\n"
     ]
    }
   ],
   "source": [
    "num1 = int(input(\"Enter First Number: \"))\n",
    "num2 = int(input(\"Enter Second Number: \"))\n",
    "\n",
    "print(\"Enter which operation would you like to perform?\")\n",
    "ch = input(\"Enter any of these char for specific operation +,*: \")\n",
    "\n",
    "if ch == '+':\n",
    "    result = num1 + num2\n",
    "else:\n",
    "    ch == '*'\n",
    "    result = num1 * num2\n",
    "\n",
    "print(num1, ch , num2, \":\", result)"
   ]
  },
  {
   "cell_type": "markdown",
   "metadata": {},
   "source": [
    "4. Write a function called \"describe\" that takes as input a list of numbers, and prints the number of elements in the list, and the mean, variance, and standard deviation. The printed quantities should be labeled. The output should look something like:  number of elements: 12  mean: 0.5  variance: 0.04  standard deviation: 0.2"
   ]
  },
  {
   "cell_type": "code",
   "execution_count": 5,
   "metadata": {},
   "outputs": [
    {
     "name": "stdout",
     "output_type": "stream",
     "text": [
      "Number of elements: 10\n",
      "\n",
      "Mean:  55.0\n",
      "\n",
      "variance:  825.0\n",
      "\n",
      "std:  28.722813232690143\n"
     ]
    }
   ],
   "source": [
    "import numpy as np\n",
    "x = ([10,20,30,40,50,60,70,80,90,100])\n",
    "print(\"Number of elements:\",len(x))\n",
    "a = np.mean(x)\n",
    "b = np.average(x)\n",
    "assert np.allclose(a, b)\n",
    "print(\"\\nMean: \", a)\n",
    "a = np.var(x)\n",
    "b = np.mean((x - np.mean(x)) ** 2 )\n",
    "assert np.allclose(a,b)\n",
    "print(\"\\nvariance: \", a)\n",
    "a = np.std(x)\n",
    "b = np.sqrt(np.mean((x - np.mean(x)) ** 2 ))\n",
    "assert np.allclose(a, b)\n",
    "print(\"\\nstd: \", a)"
   ]
  },
  {
   "cell_type": "markdown",
   "metadata": {},
   "source": [
    "5. A simple substitution code codes 'a' as 1, 'b' as 2, ..., 'z' as 26. Write a function called \"encode\" that takes in a string, and prints the coded text. The output should be a string, with letters separated by \".\". Use \"999\" for punctuation and spaces. For example, encode(\"Hello!\") should print out \"8.5.12.12.15.999\"."
   ]
  },
  {
   "cell_type": "code",
   "execution_count": 3,
   "metadata": {},
   "outputs": [
    {
     "name": "stdout",
     "output_type": "stream",
     "text": [
      "1.999.999.999.999.999.999.999.999.999.999.999.999.999.999.999.999.999.999.999.999.999.999.999.999.999."
     ]
    }
   ],
   "source": [
    "import string\n",
    "def encode(letter):\n",
    "    Dict = string.ascii_lowercase\n",
    "    letterlist = list(Dict)\n",
    "    Nums = range(len(letter))\n",
    "    New_num = []\n",
    "    for x in Nums:\n",
    "         New_num.append(x+1)\n",
    "    mapping = dict(zip(letter, New_num))\n",
    "    for letter in letterlist:\n",
    "        if letter in mapping:\n",
    "            print(mapping[letter],\".\",sep=\"\",end=\"\")\n",
    "        else:\n",
    "            print(\"999\",\".\",sep=\"\",end=\"\")\n",
    "encode(\"a\")"
   ]
  }
 ],
 "metadata": {
  "kernelspec": {
   "display_name": "Python 3",
   "language": "python",
   "name": "python3"
  },
  "language_info": {
   "codemirror_mode": {
    "name": "ipython",
    "version": 3
   },
   "file_extension": ".py",
   "mimetype": "text/x-python",
   "name": "python",
   "nbconvert_exporter": "python",
   "pygments_lexer": "ipython3",
   "version": "3.7.6"
  }
 },
 "nbformat": 4,
 "nbformat_minor": 4
}
